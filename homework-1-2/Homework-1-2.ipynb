{
 "cells": [
  {
   "cell_type": "markdown",
   "metadata": {},
   "source": [
    "# Stack Overflow"
   ]
  },
  {
   "cell_type": "markdown",
   "metadata": {},
   "source": [
    "## Introduction "
   ]
  },
  {
   "cell_type": "markdown",
   "metadata": {},
   "source": [
    "In the second part of this assignment, we will create and analyze time series of creation dates of Stack Overflow questions. This assignment is to be completed **INDIVIDUALLY** and it is due on **October 7 at 7pm**."
   ]
  },
  {
   "cell_type": "markdown",
   "metadata": {},
   "source": [
    "Let's create some time series from the data. You may choose to analyze either users or tags. To analyze users, take the top 100 users with the most question posts. For each user, your time series will be the number of questions posted by that user at some frequency. To analyze tags, take the top 100 most popular question tags. For each tag, your time series will be the number of questions with that tag at some frequency. You may choose to sample your data each week, each month, on a certain day of the week or at certain hours in a day depending on what trend you are hoping to find in the data. For example, if you choose to analyze tags and sample during different hours of the day, your hypothesis could be that languages (i.e. Javascript) that are used more in industry will have more questions posted during work hours, whereas languages (i.e. Python) that are taught in academia will have more questions posted after midnight when students are scrambling to finish their homework.\n",
    "\n",
    "Compare the time series using one of the methods discussed in class. In a few paragraphs, write down what you were hoping to find in the data, what timeseries you created, what method you chose and why. **(30 pts)**\n",
    "\n",
    "You may find the [pandas.DataFrame.resample](http://pandas.pydata.org/pandas-docs/stable/generated/pandas.DataFrame.resample.html) module helpful."
   ]
  },
  {
   "cell_type": "code",
   "execution_count": 20,
   "metadata": {
    "collapsed": false
   },
   "outputs": [
    {
     "name": "stdout",
     "output_type": "stream",
     "text": [
      "most dissimilar user 1 frequency set: [37, 16, 37, 34, 22, 50, 49, 44, 49, 50, 38, 50]\n",
      "most dissimilar user 2 frequency set: [7, 7, 2, 0, 49, 14, 15, 5, 24, 19, 17, 2]\n",
      "most similar user 1 frequency set: [20, 15, 21, 19, 24, 9, 24, 25, 13, 18, 14, 7]\n",
      "most similar user 2 frequency set: [28, 15, 30, 16, 17, 18, 20, 26, 13, 11, 12, 11]\n"
     ]
    }
   ],
   "source": [
    "import pandas as pd\n",
    "from pandas import Series, DataFrame\n",
    "import csv\n",
    "import scipy.spatial\n",
    "import matplotlib.pyplot as plt\n",
    "\n",
    "# building question dataframe\n",
    "df = pd.read_csv('question_dataframe.csv')\n",
    "\n",
    "# dropping irrelevant columns\n",
    "df.drop(['Id', 'Tags'], axis=1, inplace=True)\n",
    "\n",
    "# getting a new dataframe of top 100 users based on their question post frequencies\n",
    "top = df['OwnerUserId'].value_counts().head(100)\n",
    "\n",
    "# converting series to dataframe\n",
    "top_df2 = top.to_frame(name=None)\n",
    "\n",
    "# top_df2 has top 100 question user ids, getting rid of their answer frequencies\n",
    "top_df2['OwnerUserId'] = top_df2.index\n",
    "top_df2.index = range(100)\n",
    "\n",
    "# result merges top 100 with original answer dataframe on OwnerUserId to get the creation_date of questions\n",
    "result = pd.merge(df, top_df2, on='OwnerUserId')\n",
    "\n",
    "# removing CreationDate column after fetching the months\n",
    "result['Month'] = pd.DatetimeIndex(result['CreationDate']).month\n",
    "\n",
    "# converts dataframe to dict, groups all duplicate answer user Ids and their tags together\n",
    "final_dict = {k: (list(v[\"Month\"])) for k,v in result.groupby(\"OwnerUserId\")}\n",
    "\n",
    "# counting the number of times user asked questions in months jan to december (01-12)\n",
    "# where key is the user id and value is a list of frequencies by month\n",
    "for user, months in final_dict.items():\n",
    "    count = []\n",
    "    for i in range(1, 13):\n",
    "        count.append(months.count(i))\n",
    "    final_dict[user] = count\n",
    "\n",
    "# users is a list of all the answer users\n",
    "users = list(final_dict.keys())\n",
    "\n",
    "# lists that will contain 2 most similar/dissimilar users\n",
    "similar_users = []\n",
    "dissimilar_users = []\n",
    "\n",
    "# setting the default values that keep track of min dissimilarity and max dissimilarity. max minkowski distance will be most dissimilar\n",
    "min_minkowski = 100000\n",
    "max_minkowski = 0\n",
    "for i in range(0, len(users)):\n",
    "    j = i+1\n",
    "    while j < len(users):\n",
    "        f_user = users[i] # getting the first user id from users list\n",
    "        s_user = users[j] # getting the second user id from users list\n",
    "        val_i = final_dict[f_user] # getting the set of frequencies for user 1\n",
    "        val_j = final_dict[s_user] \n",
    "\n",
    "        # calculating the minkowski distances between user 1 and user 2\n",
    "        minkowski = scipy.spatial.distance.minkowski(val_i, val_j, 1) # calculating the minkowski distance with user 1 set and user 2 set as inputs\n",
    "        \n",
    "        # updating the smallest jaccard and biggest jaccard on record\n",
    "        if (minkowski < min_minkowski):\n",
    "            min_minkowski = minkowski\n",
    "            similar_users = [f_user, s_user]\n",
    "        if (minkowski > max_minkowski):\n",
    "            max_minkowski = minkowski\n",
    "            dissimilar_users = [f_user, s_user]\n",
    "        j += 1\n",
    "\n",
    "# user ids\n",
    "dis_user_1 = dissimilar_users[0]\n",
    "dis_user_2 = dissimilar_users[1]\n",
    "sim_user_1 = similar_users[0]\n",
    "sim_user_2 = similar_users[1]\n",
    "\n",
    "# plotting\n",
    "plt.figure()\n",
    "plt.title(\"Most Dissimilar Users Measured By Minkowski Distance\")\n",
    "plt.ylabel(\"Frequency of posts\")\n",
    "plt.xlabel(\"Months (0 - 11: Jan - December)\")\n",
    "\n",
    "# changing list to series for plotting\n",
    "dis_user_1_set = Series(final_dict[dis_user_1])\n",
    "dis_user_2_set = Series(final_dict[dis_user_2])\n",
    "\n",
    "print('most dissimilar user 1 frequency set: {}'.format(final_dict[dis_user_1]))\n",
    "print('most dissimilar user 2 frequency set: {}'.format(final_dict[dis_user_2]))\n",
    "\n",
    "dis_user_1_set.plot(label='User {}'.format(dis_user_1))\n",
    "dis_user_2_set.plot(label='User {}'.format(dis_user_2))\n",
    "plt.legend()\n",
    "plt.show()\n",
    "\n",
    "plt.title(\"Most Similar Users Measured By Minkowski Distance\")\n",
    "plt.ylabel(\"Frequency of posts\")\n",
    "plt.xlabel(\"Months (0 - 11: Jan - December)\")\n",
    "\n",
    "# changing list to series for plotting\n",
    "sim_user_1_set = Series(final_dict[sim_user_1])\n",
    "sim_user_2_set = Series(final_dict[sim_user_2])\n",
    "\n",
    "print('most similar user 1 frequency set: {}'.format(final_dict[sim_user_1]))\n",
    "print('most similar user 2 frequency set: {}'.format(final_dict[sim_user_2]))\n",
    "\n",
    "sim_user_1_set.plot(label='User {}'.format(sim_user_1))\n",
    "sim_user_2_set.plot(label='User {}'.format(sim_user_2))\n",
    "plt.legend()\n",
    "plt.show()"
   ]
  },
  {
   "cell_type": "markdown",
   "metadata": {},
   "source": [
    "Choose a different distance/similarity metric and repeat the same time series analysis. Compare the two different metrics you used. **(10 pts)**"
   ]
  },
  {
   "cell_type": "code",
   "execution_count": 25,
   "metadata": {
    "collapsed": false
   },
   "outputs": [
    {
     "name": "stdout",
     "output_type": "stream",
     "text": [
      "most dissimilar user 1 frequency set: [37, 16, 37, 34, 22, 50, 49, 44, 49, 50, 38, 50]\n",
      "most dissimilar user 2 frequency set: [42, 36, 39, 9, 8, 17, 4, 2, 5, 7, 2, 2]\n",
      "most similar user 1 frequency set: [8, 22, 26, 26, 28, 21, 13, 16, 17, 9, 12, 10]\n",
      "most similar user 2 frequency set: [11, 10, 9, 19, 20, 30, 24, 28, 16, 18, 8, 11]\n"
     ]
    }
   ],
   "source": [
    "import numpy as np\n",
    "from scipy.spatial.distance import euclidean\n",
    "from fastdtw import fastdtw\n",
    "\n",
    "# lists that will contain 2 most similar/dissimilar users\n",
    "similar_users = []\n",
    "dissimilar_users = []\n",
    "\n",
    "# setting the default values that keep track of min and max distance. max distance would be most dissimilar users \n",
    "min_dist = 100000\n",
    "max_dist = 0\n",
    "for i in range(0, len(users)):\n",
    "    j = i+1\n",
    "    while j < len(users):\n",
    "        f_user = users[i] # getting the first user id from users list\n",
    "        s_user = users[j] # getting the second user id from users list\n",
    "        val_i = final_dict[f_user] # getting the set of frequencies for user 1\n",
    "        val_j = final_dict[s_user] \n",
    "\n",
    "        # calculating jaccard similiarity between user 1 and user 2\n",
    "        dist, path = fastdtw(val_i, val_j, dist=euclidean)\n",
    "        \n",
    "        # updating the smallest jaccard and biggest jaccard on record\n",
    "        if (dist < min_dist):\n",
    "            min_dist = dist\n",
    "            similar_users = [f_user, s_user]\n",
    "        if (dist > max_dist):\n",
    "            max_dist = dist\n",
    "            dissimilar_users = [f_user, s_user]\n",
    "        j += 1\n",
    "\n",
    "# user ids\n",
    "dis_user_1 = dissimilar_users[0]\n",
    "dis_user_2 = dissimilar_users[1]\n",
    "sim_user_1 = similar_users[0]\n",
    "sim_user_2 = similar_users[1]\n",
    "\n",
    "# plotting\n",
    "plt.figure()\n",
    "plt.title(\"Most Dissimilar Users Measured By Dynamic Time Warp\")\n",
    "plt.ylabel(\"Frequency of posts\")\n",
    "plt.xlabel(\"Months (0 - 11: Jan - December)\")\n",
    "\n",
    "# changing list to series for plotting\n",
    "dis_user_1_set = Series(final_dict[dis_user_1])\n",
    "dis_user_2_set = Series(final_dict[dis_user_2])\n",
    "\n",
    "print('most dissimilar user 1 frequency set: {}'.format(final_dict[dis_user_1]))\n",
    "print('most dissimilar user 2 frequency set: {}'.format(final_dict[dis_user_2]))\n",
    "\n",
    "dis_user_1_set.plot(label='User {}'.format(dis_user_1))\n",
    "dis_user_2_set.plot(label='User {}'.format(dis_user_2))\n",
    "plt.legend()\n",
    "plt.show()\n",
    "\n",
    "plt.title(\"Most Similar Users Measured By Dynamic Time Warp\")\n",
    "plt.ylabel(\"Frequency of posts\")\n",
    "plt.xlabel(\"Months (0 - 11: Jan - December)\")\n",
    "\n",
    "# changing list to series for plotting\n",
    "sim_user_1_set = Series(final_dict[sim_user_1])\n",
    "sim_user_2_set = Series(final_dict[sim_user_2])\n",
    "\n",
    "print('most similar user 1 frequency set: {}'.format(final_dict[sim_user_1]))\n",
    "print('most similar user 2 frequency set: {}'.format(final_dict[sim_user_2]))\n",
    "\n",
    "sim_user_1_set.plot(label='User {}'.format(sim_user_1))\n",
    "sim_user_2_set.plot(label='User {}'.format(sim_user_2))\n",
    "plt.legend()\n",
    "plt.show()"
   ]
  },
  {
   "cell_type": "markdown",
   "metadata": {},
   "source": [
    "The two metrics used for measuring similarity between the frequency of user activities by months were Minkowski distance and Dynamic time warp.  I chose to use Minkowski distance because it was one of the distance metrics included in the time series notes.  P is set to 1 because Minkowski generalizes Euclidean distance for p = 2 and the result may not be meaningful.  For this dataset I hoped to find a trend for the users with the most activity to be posting questions consistently throughout the year and users who were not frequently on the site to post more sporadically.  The time series measures the similiarity between two users using their frequencies of question posts as data objects being passed in and compared.  \n",
    "\n",
    "The timeseries generated for most dissimilar users measured by Minkowski distance showed a dramatic change in question post frequency where user one was posting less than usual while the other showed a sporadic increase of postings before quickly dying down.  For most similar users measured by Minkowski distance, the frequency of question posts by both users were more similar relative to the dissimilar graph. \n",
    "\n",
    "Dynamic time warp select better frequency sets for both most similar and dissimilar users.  There is a greater disparity in the lines for dissimilar users compared to the graph produced by the Minkowski distance.  "
   ]
  }
 ],
 "metadata": {
  "anaconda-cloud": {},
  "kernelspec": {
   "display_name": "Python [Root]",
   "language": "python",
   "name": "Python [Root]"
  },
  "language_info": {
   "codemirror_mode": {
    "name": "ipython",
    "version": 3
   },
   "file_extension": ".py",
   "mimetype": "text/x-python",
   "name": "python",
   "nbconvert_exporter": "python",
   "pygments_lexer": "ipython3",
   "version": "3.5.2"
  }
 },
 "nbformat": 4,
 "nbformat_minor": 0
}
